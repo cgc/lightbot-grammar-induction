{
 "cells": [
  {
   "attachments": {},
   "cell_type": "markdown",
   "metadata": {},
   "source": [
    "# Loading dependencies + data"
   ]
  },
  {
   "cell_type": "code",
   "execution_count": 1,
   "metadata": {},
   "outputs": [],
   "source": [
    "import pandas as pd\n",
    "import numpy as np\n",
    "import matplotlib.pyplot as plt\n",
    "import seaborn as sns\n",
    "\n",
    "import figs\n",
    "\n",
    "import sys\n",
    "sys.path.append('..')\n",
    "import lb\n",
    "\n",
    "%load_ext autoreload\n",
    "%autoreload 2\n"
   ]
  },
  {
   "cell_type": "code",
   "execution_count": 2,
   "metadata": {},
   "outputs": [],
   "source": [
    "figs.set_mpl_style()\n"
   ]
  },
  {
   "cell_type": "code",
   "execution_count": 3,
   "metadata": {},
   "outputs": [
    {
     "name": "stdout",
     "output_type": "stream",
     "text": [
      "Large difference 83ms between duration 26914ms and end-start difference 26831ms for pid=md5:8c43bec3733bb9976c197bff02dbf4e2 trial=3\n",
      "Large difference 155ms between duration 6858ms and end-start difference 6703ms for pid=md5:fce1be10fd7e4f749e9b5f731056d7f3 trial=4\n",
      "Modal row count 34. # matching 193 / 235\n",
      "# with no programming 171 / 235\n",
      "# valid workers 171 / 235\n"
     ]
    }
   ],
   "source": [
    "Dall = lb.exp.Data.load('0.4')\n",
    "D = Dall.qualified()\n"
   ]
  },
  {
   "attachments": {},
   "cell_type": "markdown",
   "metadata": {},
   "source": [
    "# Enumerating programs"
   ]
  },
  {
   "cell_type": "code",
   "execution_count": 4,
   "metadata": {},
   "outputs": [
    {
     "name": "stdout",
     "output_type": "stream",
     "text": [
      "Loading from cached file took 40.36 seconds. Last modified 2024-07-01T02:15:22.118727+00:00 (36 days, 13:39:23.153394 ago)\n"
     ]
    }
   ],
   "source": [
    "if 'dc' in locals():\n",
    "    del dc\n",
    "    import gc\n",
    "    gc.collect()\n",
    "\n",
    "dc = lb.fitting.default_program_enumeration(D)\n"
   ]
  },
  {
   "cell_type": "code",
   "execution_count": 5,
   "metadata": {},
   "outputs": [
    {
     "name": "stdout",
     "output_type": "stream",
     "text": [
      "--------------------\n",
      "('cgcMaps', 14) 39650 elapsed {'enum:trace': '0.117s', 'enum:program': '0.918s', 'enum:program_count_matrix': '1.529s'}\n",
      "Behavior #participants=166 trace range=12-40 perc(50=14.00, 75=15.75, 95=18.75, 99=22.70)\n",
      "TraceSet #1124 #programs=39650 trace range 12-20 iters=10400 non-monotonic=0\n",
      "trace (full) missing total=4/166 (2.41%) unique=4/31 (12.90%) avg count per unique=4/4=1.00 {'BBADDBECADDCDBBDCDBECA', 'BDCAEBDCAEBBECCCECCECA', 'EBDCDBCAEBDCAEBECCBECECA', 'DCCEBBAECBACEECEBBECECCCEBCCEBBECCEBBECA'}\n",
      "trace (by 2+) missing total=0/150 (0.00%) unique=0/15 (0.00%)  set()\n",
      "program (full) missing total=15/166 (9.04%) unique=15/69 (21.74%) avg count per unique=15/15=1.00\n",
      "program (by 2+) missing total=0/121 (0.00%) unique=0/24 (0.00%) \n",
      "Participant % with trace within max length 97.59% (assuming astar with include_equal_score)\n",
      "\n",
      "--------------------\n",
      "('cgcMaps', 3) 6742493 elapsed {'enum:trace': '2.048s', 'enum:program': '196.208s', 'enum:program_count_matrix': '393.378s'}\n",
      "Behavior #participants=166 trace range=21-31 perc(50=22.00, 75=22.00, 95=25.00, 99=29.35)\n",
      "TraceSet #2243 #programs=6742493 trace range 21-29 iters=30441 non-monotonic=0\n",
      "trace (full) missing total=3/166 (1.81%) unique=3/16 (18.75%) avg count per unique=3/3=1.00 {'ECCCCCDCDCACACCACACECECACACCACA', 'CCECAECAECAECAECCCACAECACECECA', 'CACAECAECADCCDCAECAECAECA'}\n",
      "trace (by 2+) missing total=0/159 (0.00%) unique=0/9 (0.00%)  set()\n",
      "program (full) missing total=46/166 (27.71%) unique=39/86 (45.35%) avg count per unique=46/39=1.18\n",
      "program (by 2+) missing total=12/102 (11.76%) unique=5/22 (22.73%) avg count per unique=12/5=2.40\n",
      "Participant % with trace within max length 98.80% (assuming astar with include_equal_score)\n",
      "\n",
      "--------------------\n",
      "('maps', 8) 50140 elapsed {'enum:trace': '0.441s', 'enum:program': '1.037s', 'enum:program_count_matrix': '2.018s'}\n",
      "Behavior #participants=171 trace range=13-21 perc(50=15.00, 75=18.00, 95=18.00, 99=18.00)\n",
      "TraceSet #1502 #programs=50140 trace range 13-21 iters=16093 non-monotonic=0\n",
      "trace (full) missing total=0/171 (0.00%) unique=0/10 (0.00%)  set()\n",
      "trace (by 2+) missing total=0/167 (0.00%) unique=0/6 (0.00%)  set()\n",
      "program (full) missing total=11/171 (6.43%) unique=11/32 (34.38%) avg count per unique=11/11=1.00\n",
      "program (by 2+) missing total=0/148 (0.00%) unique=0/9 (0.00%) \n",
      "Participant % with trace within max length 100.00% (assuming astar with include_equal_score)\n",
      "\n",
      "--------------------\n",
      "('cgcMaps', 15) 1221589 elapsed {'enum:trace': '0.399s', 'enum:program': '34.248s', 'enum:program_count_matrix': '65.214s'}\n",
      "Behavior #participants=170 trace range=22-30 perc(50=22.00, 75=22.00, 95=24.00, 99=28.62)\n",
      "TraceSet #2273 #programs=1221589 trace range 22-27 iters=25126 non-monotonic=0\n",
      "trace (full) missing total=3/170 (1.76%) unique=3/21 (14.29%) avg count per unique=3/3=1.00 {'BAECCACDBADCCACBDCCCDCCDBAECCA', 'ECACCABDCCDBACDBAECEBADDBECA', 'BAECCACEBAECCADBDCCCDCCCDBACCA'}\n",
      "trace (by 2+) missing total=0/156 (0.00%) unique=0/7 (0.00%)  set()\n",
      "program (full) missing total=23/170 (13.53%) unique=20/63 (31.75%) avg count per unique=23/20=1.15\n",
      "program (by 2+) missing total=5/122 (4.10%) unique=2/15 (13.33%) avg count per unique=5/2=2.50\n",
      "Participant % with trace within max length 98.24% (assuming astar with include_equal_score)\n",
      "\n",
      "--------------------\n",
      "('maps', 7) 169793 elapsed {'enum:trace': '6.660s', 'enum:program': '3.733s', 'enum:program_count_matrix': '7.589s'}\n",
      "Behavior #participants=170 trace range=17-24 perc(50=19.00, 75=21.75, 95=22.00, 99=24.00)\n",
      "TraceSet #2111 #programs=169793 trace range 17-23 iters=21816 non-monotonic=0\n",
      "trace (full) missing total=4/170 (2.35%) unique=2/29 (6.90%) avg count per unique=4/2=2.00 {'BCDCADBECBCDCADBECBDCDCA', 'BCDCABDCEBCDCABDCEBDCDCA'}\n",
      "trace (by 2+) missing total=4/160 (2.50%) unique=2/19 (10.53%) avg count per unique=4/2=2.00 {'BCDCABDCEBCDCABDCEBDCDCA', 'BCDCADBECBCDCADBECBDCDCA'}\n",
      "program (full) missing total=42/170 (24.71%) unique=37/91 (40.66%) avg count per unique=42/37=1.14\n",
      "program (by 2+) missing total=9/102 (8.82%) unique=4/23 (17.39%) avg count per unique=9/4=2.25\n",
      "Participant % with trace within max length 97.65% (assuming astar with include_equal_score)\n",
      "\n",
      "--------------------\n",
      "('cgcMaps', 9) 3378096 elapsed {'enum:trace': '3.026s', 'enum:program': '112.915s', 'enum:program_count_matrix': '209.368s'}\n",
      "Behavior #participants=164 trace range=25-35 perc(50=27.00, 75=30.00, 95=31.85, 99=35.00)\n",
      "TraceSet #1720 #programs=3378096 trace range 25-31 iters=25074 non-monotonic=0\n",
      "trace (full) missing total=9/164 (5.49%) unique=4/32 (12.50%) avg count per unique=9/4=2.25 {'DBACAEBBAECABEBABDCDCCCDBAEBDBACA', 'DBACABECECCBADBDBACABECECCBADBDBACA', 'DBACABECCEBACABEBABDCDCCCDBAEBDBACA', 'BABBABCDCDBAECAEECEBBAECADBBADCA'}\n",
      "trace (by 2+) missing total=6/151 (3.97%) unique=1/19 (5.26%) avg count per unique=6/1=6.00 {'DBACABECECCBADBDBACABECECCBADBDBACA'}\n",
      "program (full) missing total=52/164 (31.71%) unique=50/117 (42.74%) avg count per unique=52/50=1.04\n",
      "program (by 2+) missing total=4/63 (6.35%) unique=2/16 (12.50%) avg count per unique=4/2=2.00\n",
      "Participant % with trace within max length 94.51% (assuming astar with include_equal_score)\n",
      "\n",
      "--------------------\n",
      "('cgcMaps', 12) 1314242 elapsed {'enum:trace': '0.546s', 'enum:program': '45.922s', 'enum:program_count_matrix': '68.368s'}\n",
      "Behavior #participants=166 trace range=19-33 perc(50=20.00, 75=21.00, 95=22.00, 99=29.70)\n",
      "TraceSet #1710 #programs=1314242 trace range 19-26 iters=20980 non-monotonic=0\n",
      "trace (full) missing total=5/166 (3.01%) unique=4/21 (19.05%) avg count per unique=5/4=1.25 {'EBABABCDCCCDBDBABAEBBAEBEBA', 'BEBADBEBADBEBEBAEBDBEBDBADBADBEBA', 'BCCCECCCEBBABAEBDBAEBAEBABEBA', 'BEBADBEBADBEBEBABABCECCCEBEBABA'}\n",
      "trace (by 2+) missing total=2/156 (1.28%) unique=1/11 (9.09%) avg count per unique=2/1=2.00 {'EBABABCDCCCDBDBABAEBBAEBEBA'}\n",
      "program (full) missing total=48/166 (28.92%) unique=39/80 (48.75%) avg count per unique=48/39=1.23\n",
      "program (by 2+) missing total=14/106 (13.21%) unique=5/20 (25.00%) avg count per unique=14/5=2.80\n",
      "Participant % with trace within max length 96.99% (assuming astar with include_equal_score)\n",
      "\n",
      "--------------------\n",
      "('cgcMaps', 11) 193022 elapsed {'enum:trace': '0.196s', 'enum:program': '4.408s', 'enum:program_count_matrix': '8.966s'}\n",
      "Behavior #participants=169 trace range=16-20 perc(50=16.00, 75=18.00, 95=19.00, 99=20.00)\n",
      "TraceSet #1809 #programs=193022 trace range 16-24 iters=16804 non-monotonic=0\n",
      "trace (full) missing total=3/169 (1.78%) unique=3/20 (15.00%) avg count per unique=3/3=1.00 {'CEBAEBDCBAEEBACDBA', 'CEBACEBDBADDBACDBA', 'CEBEBBADDBBAECEBADBA'}\n",
      "trace (by 2+) missing total=0/161 (0.00%) unique=0/12 (0.00%)  set()\n",
      "program (full) missing total=19/169 (11.24%) unique=17/62 (27.42%) avg count per unique=19/17=1.12\n",
      "program (by 2+) missing total=3/126 (2.38%) unique=1/19 (5.26%) avg count per unique=3/1=3.00\n",
      "Participant % with trace within max length 100.00% (assuming astar with include_equal_score)\n",
      "\n",
      "--------------------\n",
      "('maps', 6) 109323 elapsed {'enum:trace': '0.124s', 'enum:program': '2.435s', 'enum:program_count_matrix': '4.844s'}\n",
      "Behavior #participants=168 trace range=13-28 perc(50=15.00, 75=15.00, 95=17.00, 99=18.33)\n",
      "TraceSet #1664 #programs=109323 trace range 13-23 iters=15642 non-monotonic=0\n",
      "trace (full) missing total=1/168 (0.60%) unique=1/12 (8.33%) avg count per unique=1/1=1.00 {'BBADCBDCDCECDBDBBDCEBBACBDBA'}\n",
      "trace (by 2+) missing total=0/164 (0.00%) unique=0/8 (0.00%)  set()\n",
      "program (full) missing total=26/168 (15.48%) unique=25/63 (39.68%) avg count per unique=26/25=1.04\n",
      "program (by 2+) missing total=2/127 (1.57%) unique=1/22 (4.55%) avg count per unique=2/1=2.00\n",
      "Participant % with trace within max length 99.40% (assuming astar with include_equal_score)\n",
      "\n",
      "--------------------\n",
      "('cgcMaps', 8) 1540267 elapsed {'enum:trace': '1.138s', 'enum:program': '46.058s', 'enum:program_count_matrix': '88.870s'}\n",
      "Behavior #participants=158 trace range=25-45 perc(50=27.00, 75=33.00, 95=34.00, 99=37.86)\n",
      "TraceSet #1173 #programs=1540267 trace range 25-29 iters=15369 non-monotonic=0\n",
      "trace (full) missing total=64/158 (40.51%) unique=35/60 (58.33%) avg count per unique=64/35=1.83 {'BAECCACCABDCDCBADCCABECCEBACCA', 'EBABBABDBADCECADBDBAECECADBDBA', 'BAECDCAEECCADDCECACDCAEECCADDCECA', 'BAECECAEECCAEECDCACECAEECCAEECDCA', 'BAECECAEECCAEECDCEECDDCACECAEECCAEECDCEECDDCA', 'BAECECADDCCADDCDCACECADDCCADDCDCA', 'BAECCACCAEECECADDCCAEECDCCECADDCCA', 'BAECECADDCCAEECDCACECAEECCAEECDCA', 'BAECECAEECCAEECDCACCAEECDCAEECCA', 'BAECDCAEECCAEECECACECAEECCAEECDCA', 'BAECECAEECCAEECDCACECADDCCAEECDCA', 'BAECCACCAEBEBAECCADDCECCECAEECCA', 'BAECCACCADDCDCADDCCADDCECCDCADDCCA', 'EBABBABCDCCDCBABBABCDCDBACCACCA', 'BECEECAEECDCAEECCAEECECACECAEECCAEECDCA', 'BAECECADDCCADDCDCACDCADDCCADDCECA', 'BAECECADDCCAEECDCACDCAEECCADDCECA', 'BAECECADDCCAEECDCACCADDCDCADDCCA', 'BAECECADDCCAEECDCACECADDCECADDCECA', 'BABEBABEBABEBABEBBEBBBABEBABEBA', 'BAECDCAEECCAEECECACDCAEECCAEECECA', 'BAECECADDCCADDCDCACDCAEECCADDCECA', 'BAECECADDCCAEECDCACCADDCECADDCCA', 'BABEBAECCABDCDCBABEBAECCABDCDCBA', 'BAECECADBBADCECADBDBADCECACECA', 'BAECECADDCCAEECDCACECADDCCAEECDCA', 'BAECDCADDCCADDCECACECADDCECADDCECA', 'BAECDCAEBBABEBAECDCAEBEBADCDCA', 'BAECECAEECCAEECDCACDCAEECCADDCECA', 'BAECCACCADDCDCAEECCADDCECCECADDCCA', 'BAECCACCAEECDCAEECCAEECECCDCAEECCA', 'BAECECADDCCAEECDCACECAEECCADDCDCA', 'EECDCDBACCABECCEBACCABDCCDCCDBACCACCA', 'BAECDCAEECCAEECCEECDCACDCAEECCAEECECA', 'BAECECAEECCAEECDCACECAEECECAEECECA'}\n",
      "trace (by 2+) missing total=35/114 (30.70%) unique=6/16 (37.50%) avg count per unique=35/6=5.83 {'BAECECAEECCAEECDCACECAEECCAEECDCA', 'BABEBABEBABEBABEBBEBBBABEBABEBA', 'BAECECADDCCADDCDCACECADDCCADDCDCA', 'BAECECADDCCAEECDCACECADDCCAEECDCA', 'BAECECAEECCAEECDCACCAEECDCAEECCA', 'BAECCACCADDCDCADDCCADDCECCDCADDCCA'}\n",
      "program (full) missing total=92/158 (58.23%) unique=81/125 (64.80%) avg count per unique=92/81=1.14\n",
      "program (by 2+) missing total=15/46 (32.61%) unique=4/13 (30.77%) avg count per unique=15/4=3.75\n",
      "Participant % with trace within max length 59.49% (assuming astar with include_equal_score)\n",
      "\n",
      "--------------------\n",
      "All programs program_ct=1668 missing_program_ct=374 missing=22.42%\n",
      "Programs by 2+ program_ct=1063 missing_program_ct=64 missing=6.02%\n"
     ]
    }
   ],
   "source": [
    "dc.show()\n"
   ]
  },
  {
   "attachments": {},
   "cell_type": "markdown",
   "metadata": {},
   "source": [
    "# Plot cross-MDP BICs"
   ]
  },
  {
   "cell_type": "code",
   "execution_count": 6,
   "metadata": {},
   "outputs": [
    {
     "name": "stdout",
     "output_type": "stream",
     "text": [
      "Loading from cached file took 0.08 seconds. Last modified 2024-07-01T12:19:55.389620+00:00 (36 days, 3:35:33.872930 ago)\n",
      "score_reuse_and_reward FitResult(range=[12825.23, 14569.54], success=51/51, reach_minima=49/51, best_params=Args(b=2.5249118142314417, prior_beta=0.3785865069958296, p_normal=0.9067700021498019, step_count_coef=0.5160047821587829), match_best_params=47/51, elapsed_sec_range=[1005.68, 3814.91])\n",
      "score_reuse FitResult(range=[13482.30, 14161.19], success=51/51, reach_minima=45/51, best_params=Args(b=4.229798418431225, prior_beta=0.48215058508394065, p_normal=0.876270926517888), match_best_params=40/51, elapsed_sec_range=[331.65, 1827.14])\n",
      "score_mdl_and_reward FitResult(range=[15267.23, 15267.23], success=51/51, reach_minima=51/51, best_params=Args(mdl_beta=0.5252790119387051, step_count_coef=0.8516355052577316), match_best_params=51/51, elapsed_sec_range=[14.43, 35.23])\n",
      "score_mdl FitResult(range=[16787.27, 16787.27], success=51/51, reach_minima=51/51, best_params=Args(mdl_beta=0.9780155454389634), match_best_params=51/51, elapsed_sec_range=[4.53, 9.50])\n",
      "score_reward FitResult(range=[15880.54, 15880.54], success=51/51, reach_minima=51/51, best_params=Args(step_count_coef=1.3073341160140266), match_best_params=51/51, elapsed_sec_range=[3.38, 10.18])\n",
      "score_null FitResult(range=[21709.68, 21709.68], success=1/1, reach_minima=1/1, best_params=Args(), match_best_params=1/1, elapsed_sec_range=[0.42, 0.42])\n"
     ]
    }
   ],
   "source": [
    "# First, fit models\n",
    "fit_models = lb.fitting.analysis(dc)\n"
   ]
  },
  {
   "cell_type": "code",
   "execution_count": 7,
   "metadata": {},
   "outputs": [],
   "source": [
    "def plot_model_comparison(fit_models, *, tag=None):\n",
    "    dd = pd.DataFrame([\n",
    "        {\n",
    "            'Model': m.name,\n",
    "            'BIC': fit_models[m.score_key].bic,\n",
    "            'step-cost': 'reward' in m.score_key,\n",
    "            'color': m.color,\n",
    "        }\n",
    "        for m in figs.models.all\n",
    "    ])\n",
    "\n",
    "    f, ax = plt.subplots()\n",
    "    width = 0.25\n",
    "\n",
    "    ticks = []\n",
    "    for group_idx, (_, rows) in enumerate(dd.groupby('step-cost')):\n",
    "        for idx, row in enumerate(rows.itertuples()):\n",
    "            pos = group_idx + idx * width\n",
    "            r = ax.barh(pos, row.BIC, width, color=row.color)\n",
    "            ax.bar_label(r, padding=-40, color='black', fmt='%.0f')\n",
    "            ticks.append((pos, row.Model.replace('grammar induction +', 'grammar induction\\n+')))\n",
    "\n",
    "    ax.set_yticks(*zip(*ticks))\n",
    "    plt.xlabel('BIC')\n",
    "    plt.ylim(*plt.ylim()[::-1])\n",
    "\n",
    "    if tag is None:\n",
    "        tag = ''\n",
    "    else:\n",
    "        tag = f'-{tag}'\n",
    "    figs.save(f'model-programs-across{tag}.pdf')\n",
    "\n",
    "def plot_model_comparison(fit_models, *, tag=None):\n",
    "    dd = pd.DataFrame([\n",
    "        {\n",
    "            'Model': m.name,\n",
    "            'BIC': fit_models[m.score_key].bic,\n",
    "            'step-cost': 'reward' in m.score_key,\n",
    "            'color': m.color,\n",
    "        }\n",
    "        for m in figs.models.all\n",
    "    ])\n",
    "\n",
    "    f, ax = plt.subplots()\n",
    "    width = 0.25\n",
    "\n",
    "    ticks = []\n",
    "    for group_idx, (_, rows) in enumerate(dd.groupby('step-cost')):\n",
    "        for idx, row in enumerate(rows.itertuples()):\n",
    "            pos = group_idx + idx * width\n",
    "            ax.bar(pos, row.BIC, width, color=row.color, label=figs.wrap_model_name(row.Model))\n",
    "            ticks.append((pos, figs.wrap_model_name(row.Model)))\n",
    "\n",
    "    ax.set_xticks(*zip(*ticks), rotation=45, ha='right')\n",
    "    plt.ylabel('BIC')\n",
    "\n",
    "    if tag is None:\n",
    "        tag = ''\n",
    "    else:\n",
    "        tag = f'-{tag}'\n",
    "    figs.set_ax_size(3, 2.5, ax)\n",
    "    figs.save(f'model-programs-across{tag}.pdf')"
   ]
  },
  {
   "cell_type": "code",
   "execution_count": 8,
   "metadata": {},
   "outputs": [
    {
     "data": {
      "image/png": "[encoded data removed]",
      "text/plain": [
       "<Figure size 387.097x324.675 with 1 Axes>"
      ]
     },
     "metadata": {},
     "output_type": "display_data"
    }
   ],
   "source": [
    "plot_model_comparison(fit_models)"
   ]
  },
  {
   "cell_type": "markdown",
   "metadata": {},
   "source": [
    "# Model comparison table"
   ]
  },
  {
   "cell_type": "code",
   "execution_count": 9,
   "metadata": {},
   "outputs": [],
   "source": [
    "def lrt_latex(fit_models, hyp, null, dof_difference, *, show=False):\n",
    "    hyp_m = fit_models[hyp.score_key]\n",
    "    null_m = fit_models[null.score_key]\n",
    "    p = hyp_m.likelihood_ratio_test(null_m)\n",
    "\n",
    "    # # For logging param differences. For debugging\n",
    "    # hyp_params = set(hyp.result['final_args'].free_parameters)\n",
    "    # null_params = set(null.result['final_args'].free_parameters)\n",
    "    # print(hyp_params - null_params)\n",
    "\n",
    "    # We're repeating this here as validation\n",
    "    from scipy.stats.distributions import chi2\n",
    "    assert hyp_m.dof - null_m.dof == dof_difference, (hyp_m.dof, null_m.dof, dof_difference)\n",
    "    LR = 2 * (hyp_m.log_likelihood - null_m.log_likelihood)\n",
    "    p2 = chi2.sf(LR, dof_difference)\n",
    "    assert np.isclose(p, p2)\n",
    "\n",
    "    # Return a tuple for now\n",
    "    rv = f'$\\chi^2({dof_difference})={LR:.1f}$', f'${figs.pvalue(p)}$'\n",
    "    if show:\n",
    "        print(', '.join((hyp.name, null.name) + rv))\n",
    "    return rv\n",
    "\n",
    "def print_comparisons(fit_models):\n",
    "    lrt_latex(fit_models, figs.models.reward, figs.models.null, 1, show=True)\n",
    "    lrt_latex(fit_models, figs.models.mdl, figs.models.null, 1, show=True)\n",
    "    lrt_latex(fit_models, figs.models.reuse, figs.models.null, 3, show=True)\n",
    "    print()\n",
    "    lrt_latex(fit_models, figs.models.mdl_and_reward, figs.models.reward, 1, show=True)\n",
    "    lrt_latex(fit_models, figs.models.reuse_and_reward, figs.models.reward, 3, show=True)\n",
    "    print()\n",
    "    lrt_latex(fit_models, figs.models.mdl_and_reward, figs.models.mdl, 1, show=True)\n",
    "    lrt_latex(fit_models, figs.models.reuse_and_reward, figs.models.reuse, 1, show=True)\n"
   ]
  },
  {
   "cell_type": "code",
   "execution_count": 10,
   "metadata": {},
   "outputs": [
    {
     "name": "stdout",
     "output_type": "stream",
     "text": [
      "step cost, random choice, $\\chi^2(1)=11658.3$, $p < .001$\n",
      "MDL, random choice, $\\chi^2(1)=9844.8$, $p < .001$\n",
      "grammar induction, random choice, $\\chi^2(3)=16454.7$, $p < .001$\n",
      "\n",
      "MDL + step cost, step cost, $\\chi^2(1)=1226.6$, $p < .001$\n",
      "grammar induction + step cost, step cost, $\\chi^2(3)=6110.6$, $p < .001$\n",
      "\n",
      "MDL + step cost, MDL, $\\chi^2(1)=3040.1$, $p < .001$\n",
      "grammar induction + step cost, grammar induction, $\\chi^2(1)=1314.1$, $p < .001$\n"
     ]
    }
   ],
   "source": [
    "print_comparisons(fit_models)"
   ]
  },
  {
   "cell_type": "code",
   "execution_count": 11,
   "metadata": {},
   "outputs": [],
   "source": [
    "def table_lrt(fit_models):\n",
    "    df = pd.DataFrame([\n",
    "        {\n",
    "            ('', 'Model'): ('' if m.name == 'MDL' else r'\\midrule')+figs.makecell(figs.wrap_model_name(m.name)),\n",
    "            **{\n",
    "                ('Nested model', f'{m2.name}'): (\n",
    "                # f'{m2.name}': (\n",
    "                    figs.makecell(lrt_latex(fit_models, m, m2, dof_difference=fit_models[m.score_key].dof-fit_models[m2.score_key].dof))\n",
    "                    if fit_models[m.score_key].free_parameters > fit_models[m2.score_key].free_parameters else '')\n",
    "                for m2 in [figs.models.null, figs.models.reward, figs.models.mdl, figs.models.reuse]\n",
    "            },\n",
    "        }\n",
    "        for m in figs.models.all\n",
    "        if m.key != 'null' # skip random b/c it has no comparisons\n",
    "    ])\n",
    "    df[('Nested model', figs.makecell(['MDL or', 'grammar induction']))] = [m+g for m, g in zip(df[('Nested model', 'MDL')], df[('Nested model', 'grammar induction')])]\n",
    "    del df[('Nested model', 'MDL')]\n",
    "    del df[('Nested model', 'grammar induction')]\n",
    "    df.columns = pd.MultiIndex.from_tuples(df.columns)\n",
    "    display(df)\n",
    "    print(figs.pd_to_latex(df))\n"
   ]
  },
  {
   "cell_type": "code",
   "execution_count": 12,
   "metadata": {},
   "outputs": [
    {
     "data": {
      "text/html": [
       "<div>\n",
       "<style scoped>\n",
       "    .dataframe tbody tr th:only-of-type {\n",
       "        vertical-align: middle;\n",
       "    }\n",
       "\n",
       "    .dataframe tbody tr th {\n",
       "        vertical-align: top;\n",
       "    }\n",
       "\n",
       "    .dataframe thead tr th {\n",
       "        text-align: left;\n",
       "    }\n",
       "</style>\n",
       "<table border=\"1\" class=\"dataframe\">\n",
       "  <thead>\n",
       "    <tr>\n",
       "      <th></th>\n",
       "      <th></th>\n",
       "      <th colspan=\"3\" halign=\"left\">Nested model</th>\n",
       "    </tr>\n",
       "    <tr>\n",
       "      <th></th>\n",
       "      <th>Model</th>\n",
       "      <th>random choice</th>\n",
       "      <th>step cost</th>\n",
       "      <th>\\makecell{MDL or \\\\ grammar induction}</th>\n",
       "    </tr>\n",
       "  </thead>\n",
       "  <tbody>\n",
       "    <tr>\n",
       "      <th>0</th>\n",
       "      <td>\\makecell{MDL}</td>\n",
       "      <td>\\makecell{$\\chi^2(1)=9844.8$ \\\\ $p &lt; .001$}</td>\n",
       "      <td></td>\n",
       "      <td></td>\n",
       "    </tr>\n",
       "    <tr>\n",
       "      <th>1</th>\n",
       "      <td>\\midrule\\makecell{grammar induction}</td>\n",
       "      <td>\\makecell{$\\chi^2(3)=16454.7$ \\\\ $p &lt; .001$}</td>\n",
       "      <td></td>\n",
       "      <td></td>\n",
       "    </tr>\n",
       "    <tr>\n",
       "      <th>2</th>\n",
       "      <td>\\midrule\\makecell{step cost}</td>\n",
       "      <td>\\makecell{$\\chi^2(1)=11658.3$ \\\\ $p &lt; .001$}</td>\n",
       "      <td></td>\n",
       "      <td></td>\n",
       "    </tr>\n",
       "    <tr>\n",
       "      <th>3</th>\n",
       "      <td>\\midrule\\makecell{MDL + step cost}</td>\n",
       "      <td>\\makecell{$\\chi^2(2)=12884.9$ \\\\ $p &lt; .001$}</td>\n",
       "      <td>\\makecell{$\\chi^2(1)=1226.6$ \\\\ $p &lt; .001$}</td>\n",
       "      <td>\\makecell{$\\chi^2(1)=3040.1$ \\\\ $p &lt; .001$}</td>\n",
       "    </tr>\n",
       "    <tr>\n",
       "      <th>4</th>\n",
       "      <td>\\midrule\\makecell{grammar induction \\\\ + step ...</td>\n",
       "      <td>\\makecell{$\\chi^2(4)=17768.9$ \\\\ $p &lt; .001$}</td>\n",
       "      <td>\\makecell{$\\chi^2(3)=6110.6$ \\\\ $p &lt; .001$}</td>\n",
       "      <td>\\makecell{$\\chi^2(1)=1314.1$ \\\\ $p &lt; .001$}</td>\n",
       "    </tr>\n",
       "  </tbody>\n",
       "</table>\n",
       "</div>"
      ],
      "text/plain": [
       "                                                      \\\n",
       "                                               Model   \n",
       "0                                     \\makecell{MDL}   \n",
       "1               \\midrule\\makecell{grammar induction}   \n",
       "2                       \\midrule\\makecell{step cost}   \n",
       "3                 \\midrule\\makecell{MDL + step cost}   \n",
       "4  \\midrule\\makecell{grammar induction \\\\ + step ...   \n",
       "\n",
       "                                   Nested model  \\\n",
       "                                  random choice   \n",
       "0   \\makecell{$\\chi^2(1)=9844.8$ \\\\ $p < .001$}   \n",
       "1  \\makecell{$\\chi^2(3)=16454.7$ \\\\ $p < .001$}   \n",
       "2  \\makecell{$\\chi^2(1)=11658.3$ \\\\ $p < .001$}   \n",
       "3  \\makecell{$\\chi^2(2)=12884.9$ \\\\ $p < .001$}   \n",
       "4  \\makecell{$\\chi^2(4)=17768.9$ \\\\ $p < .001$}   \n",
       "\n",
       "                                                \\\n",
       "                                     step cost   \n",
       "0                                                \n",
       "1                                                \n",
       "2                                                \n",
       "3  \\makecell{$\\chi^2(1)=1226.6$ \\\\ $p < .001$}   \n",
       "4  \\makecell{$\\chi^2(3)=6110.6$ \\\\ $p < .001$}   \n",
       "\n",
       "                                                \n",
       "        \\makecell{MDL or \\\\ grammar induction}  \n",
       "0                                               \n",
       "1                                               \n",
       "2                                               \n",
       "3  \\makecell{$\\chi^2(1)=3040.1$ \\\\ $p < .001$}  \n",
       "4  \\makecell{$\\chi^2(1)=1314.1$ \\\\ $p < .001$}  "
      ]
     },
     "metadata": {},
     "output_type": "display_data"
    },
    {
     "name": "stdout",
     "output_type": "stream",
     "text": [
      "\\begin{tabular}{llll}\n",
      "\\toprule\n",
      "                                                    & \\multicolumn{3}{l}{Nested model} \\\\\n",
      "                                              Model &                                random choice &                                   step cost &      \\makecell{MDL or \\\\ grammar induction} \\\\\n",
      "\\midrule\n",
      "                                     \\makecell{MDL} &  \\makecell{$\\chi^2(1)=9844.8$ \\\\ $p < .001$} &                                             &                                             \\\\\n",
      "               \\midrule\\makecell{grammar induction} & \\makecell{$\\chi^2(3)=16454.7$ \\\\ $p < .001$} &                                             &                                             \\\\\n",
      "                       \\midrule\\makecell{step cost} & \\makecell{$\\chi^2(1)=11658.3$ \\\\ $p < .001$} &                                             &                                             \\\\\n",
      "                 \\midrule\\makecell{MDL + step cost} & \\makecell{$\\chi^2(2)=12884.9$ \\\\ $p < .001$} & \\makecell{$\\chi^2(1)=1226.6$ \\\\ $p < .001$} & \\makecell{$\\chi^2(1)=3040.1$ \\\\ $p < .001$} \\\\\n",
      "\\midrule\\makecell{grammar induction \\\\ + step cost} & \\makecell{$\\chi^2(4)=17768.9$ \\\\ $p < .001$} & \\makecell{$\\chi^2(3)=6110.6$ \\\\ $p < .001$} & \\makecell{$\\chi^2(1)=1314.1$ \\\\ $p < .001$} \\\\\n",
      "\\bottomrule\n",
      "\\end{tabular}\n",
      "\n"
     ]
    }
   ],
   "source": [
    "table_lrt(fit_models)"
   ]
  },
  {
   "attachments": {},
   "cell_type": "markdown",
   "metadata": {},
   "source": [
    "# Plot single-MDP BICs"
   ]
  },
  {
   "cell_type": "code",
   "execution_count": 13,
   "metadata": {},
   "outputs": [],
   "source": [
    "def per_task_bic(dc, fit_models, m):\n",
    "    print()\n",
    "    print('Computing per-task BIC for', m.score_key)\n",
    "\n",
    "    fit = fit_models[m.score_key]\n",
    "    a = fit.result['final_args']\n",
    "\n",
    "    def original_fn(res, a):\n",
    "        return res.crossent(a, batch_score=m.batch_score_fn)\n",
    "\n",
    "    if 'grammar induction' in m.name:\n",
    "        print('Because this includes the reuse model, integrating nuisance parameters out.')\n",
    "        # HACK These nuisance_params are copy/pasted from model fitting.\n",
    "        nuisance_params = dict(p_end=np.linspace(0.1, 0.9, 9))\n",
    "        fn = lambda res, outer_a: lb.fitting.integrate_nuisance_for_negative_log_fn(lambda a: original_fn(res, a), outer_a, nuisance_params)\n",
    "    else:\n",
    "        nuisance_params = None\n",
    "        fn = original_fn\n",
    "\n",
    "    lls = np.array([\n",
    "        -fn(res, a)\n",
    "        for res in dc.d\n",
    "    ])\n",
    "    # They will differ only in the case of nuisance parameter integration.\n",
    "    print(f'Log probability of data, summed across tasks: {np.sum(lls):.2f}. Log probability of entire dataset: {fit.log_likelihood:.2f}.')\n",
    "    if nuisance_params is None:\n",
    "        assert np.isclose(np.sum(lls), fit.log_likelihood), (np.sum(lls), fit.log_likelihood)\n",
    "\n",
    "    obs_counts = np.array([\n",
    "        sum(res.bs.program_counts.values())\n",
    "        for res in dc.d\n",
    "    ])\n",
    "    assert np.sum(obs_counts) == fit.observation_count, (np.sum(obs_counts), fit.observation_count)\n",
    "\n",
    "    bics = fit.dof * np.log(obs_counts) - 2 * lls\n",
    "\n",
    "    return pd.DataFrame(dict(bic=bics, ll=lls, obs_count=obs_counts), index=[res.mdp_name for res in dc.d])\n",
    "\n",
    "def per_task_bic_for_all_models(dc, fit_models):\n",
    "    return {\n",
    "        m.score_key: per_task_bic(dc, fit_models, m)\n",
    "        for m in figs.models.all\n",
    "    }"
   ]
  },
  {
   "cell_type": "code",
   "execution_count": 14,
   "metadata": {},
   "outputs": [
    {
     "name": "stdout",
     "output_type": "stream",
     "text": [
      "Loading from cached file took 0.01 seconds. Last modified 2024-07-01T12:19:55.389620+00:00 (36 days, 3:35:34.461443 ago)\n",
      "score_reuse_and_reward FitResult(range=[12825.23, 14569.54], success=51/51, reach_minima=49/51, best_params=Args(b=2.5249118142314417, prior_beta=0.3785865069958296, p_normal=0.9067700021498019, step_count_coef=0.5160047821587829), match_best_params=47/51, elapsed_sec_range=[1005.68, 3814.91])\n",
      "score_reuse FitResult(range=[13482.30, 14161.19], success=51/51, reach_minima=45/51, best_params=Args(b=4.229798418431225, prior_beta=0.48215058508394065, p_normal=0.876270926517888), match_best_params=40/51, elapsed_sec_range=[331.65, 1827.14])\n",
      "score_mdl_and_reward FitResult(range=[15267.23, 15267.23], success=51/51, reach_minima=51/51, best_params=Args(mdl_beta=0.5252790119387051, step_count_coef=0.8516355052577316), match_best_params=51/51, elapsed_sec_range=[14.43, 35.23])\n",
      "score_mdl FitResult(range=[16787.27, 16787.27], success=51/51, reach_minima=51/51, best_params=Args(mdl_beta=0.9780155454389634), match_best_params=51/51, elapsed_sec_range=[4.53, 9.50])\n",
      "score_reward FitResult(range=[15880.54, 15880.54], success=51/51, reach_minima=51/51, best_params=Args(step_count_coef=1.3073341160140266), match_best_params=51/51, elapsed_sec_range=[3.38, 10.18])\n",
      "score_null FitResult(range=[21709.68, 21709.68], success=1/1, reach_minima=1/1, best_params=Args(), match_best_params=1/1, elapsed_sec_range=[0.42, 0.42])\n",
      "\n",
      "Computing per-task BIC for score_null\n",
      "Log probability of data, summed across tasks: -21709.68. Log probability of entire dataset: -21709.68.\n",
      "\n",
      "Computing per-task BIC for score_mdl\n",
      "Log probability of data, summed across tasks: -16787.27. Log probability of entire dataset: -16787.27.\n",
      "\n",
      "Computing per-task BIC for score_reuse\n",
      "Because this includes the reuse model, integrating nuisance parameters out.\n",
      "Log probability of data, summed across tasks: -13393.07. Log probability of entire dataset: -13482.30.\n",
      "\n",
      "Computing per-task BIC for score_reward\n",
      "Log probability of data, summed across tasks: -15880.54. Log probability of entire dataset: -15880.54.\n",
      "\n",
      "Computing per-task BIC for score_mdl_and_reward\n",
      "Log probability of data, summed across tasks: -15267.23. Log probability of entire dataset: -15267.23.\n",
      "\n",
      "Computing per-task BIC for score_reuse_and_reward\n",
      "Because this includes the reuse model, integrating nuisance parameters out.\n",
      "Log probability of data, summed across tasks: -12795.19. Log probability of entire dataset: -12825.23.\n"
     ]
    }
   ],
   "source": [
    "# Load above analysis\n",
    "fit_models = lb.fitting.analysis(dc)\n",
    "\n",
    "model_bics = per_task_bic_for_all_models(dc, fit_models)"
   ]
  },
  {
   "cell_type": "code",
   "execution_count": 15,
   "metadata": {},
   "outputs": [],
   "source": [
    "def plot_model_comparison_between_task(dc, model_bics, *, tag=None):\n",
    "    df = pd.DataFrame([\n",
    "        {\n",
    "            'Model': m.name_label,\n",
    "            'mdp_name': mdp_name,\n",
    "            'MDP': label,\n",
    "            'BIC': model_bics[m.score_key].bic[mdp_name],\n",
    "            'Log_Likelihood': model_bics[m.score_key].ll[mdp_name],\n",
    "            'step-cost': 'reward' in m.key,\n",
    "        }\n",
    "        for m in figs.models.all\n",
    "        for label, mdp_name in figs.mdp_labels_and_names\n",
    "    ])\n",
    "\n",
    "    _, ax = plt.subplots()\n",
    "    sns.barplot(\n",
    "        x='MDP', y='BIC', hue='Model',\n",
    "        data=df,\n",
    "        palette=[m.color for m in figs.models.all])\n",
    "    plt.xlabel('Task')\n",
    "    plt.gca().get_legend().remove()\n",
    "\n",
    "    if tag is None:\n",
    "        tag = ''\n",
    "    else:\n",
    "        tag = f'-{tag}'\n",
    "    figs.set_ax_size(5, 2.5, ax)\n",
    "    figs.save(f'model-programs-between{tag}.pdf')"
   ]
  },
  {
   "cell_type": "code",
   "execution_count": 16,
   "metadata": {},
   "outputs": [
    {
     "data": {
      "image/png": "[encoded data removed]",
      "text/plain": [
       "<Figure size 645.161x324.675 with 1 Axes>"
      ]
     },
     "metadata": {},
     "output_type": "display_data"
    }
   ],
   "source": [
    "plot_model_comparison_between_task(dc, model_bics)"
   ]
  },
  {
   "cell_type": "markdown",
   "metadata": {},
   "source": [
    "# Parameter/BIC/LL table"
   ]
  },
  {
   "cell_type": "code",
   "execution_count": 17,
   "metadata": {},
   "outputs": [],
   "source": [
    "def parameter_table(fit_models):\n",
    "    param_label = dict(\n",
    "        step_count_coef=r'\\beta_{\\text{StepCost}}',\n",
    "        prior_beta=r'\\beta_{\\text{GrammarInduction}}',\n",
    "        mdl_beta=r'\\beta_{\\text{MDL}}',\n",
    "        b=r'\\alpha',\n",
    "        p_end=r'p_{end}',\n",
    "        p_normal=r'p_{call}',\n",
    "    )\n",
    "\n",
    "    rows = []\n",
    "\n",
    "    for model in figs.models.all:\n",
    "        name = model.score_key\n",
    "        fit = fit_models[name]\n",
    "        fit_args = fit.result['final_args']\n",
    "\n",
    "        args = list(fit_args.free_parameters.keys())\n",
    "        assert len(args) == fit.dof\n",
    "        arg_strs = []\n",
    "        for a in args:\n",
    "            fi = lb.fitting.Args.field_info[a]\n",
    "            assert a in fit_args.free_parameters\n",
    "            value = getattr(fit_args, a)\n",
    "            if a == 'p_normal':\n",
    "                assert fit_args.free_parameters[a] == 1/2\n",
    "                assert fi.bounds == lb.fitting.BoundTypes.prob\n",
    "                value = 1 - value # HACK We need to subtract from 1 b/c we call this a p(call) in the text\n",
    "            else:\n",
    "                assert fit_args.free_parameters[a] == 1, 'Ensuring all started at same'\n",
    "                assert fi.bounds in (lb.fitting.BoundTypes.pos, lb.fitting.BoundTypes.pos_w0)\n",
    "                if fi.bounds == lb.fitting.BoundTypes.pos_w0:\n",
    "                    print(f'WARNING: Argument {a} has bounds that permit 0 as a value, make sure to note if relevant')\n",
    "            arg_strs.append(f'${param_label[a]}={value:.2f}$')\n",
    "        rule = '' if model.key == 'null' else r'\\midrule '\n",
    "        rows.append({\n",
    "            'Model': rule+figs.makecell(figs.wrap_model_name(model.name)),\n",
    "            figs.makecell('Log likelihood'.split()): '{:.1f}'.format(fit.log_likelihood),\n",
    "            'BIC': '{:.1f}'.format(fit.bic),\n",
    "            figs.makecell('Param. count'.split()): fit.dof,\n",
    "            'Parameters': figs.makecell(arg_strs, align='l'),\n",
    "        })\n",
    "    rows = pd.DataFrame(rows)\n",
    "    print(figs.pd_to_latex(rows.set_index(['Model']), kwargs=dict(index=True)))"
   ]
  },
  {
   "cell_type": "code",
   "execution_count": 18,
   "metadata": {},
   "outputs": [
    {
     "name": "stdout",
     "output_type": "stream",
     "text": [
      "\\begin{tabular}{lllrl}\n",
      "\\toprule\n",
      "{} & \\makecell{Log \\\\ likelihood} &      BIC &  \\makecell{Param. \\\\ count} &                                                                                                                  Parameters \\\\\n",
      "\\midrule\n",
      "\\makecell{random choice}                             &                     -21709.7 &  43419.4 &                           0 &                                                                                                              \\makecell[l]{} \\\\\n",
      "\\midrule \\makecell{MDL}                              &                     -16787.3 &  33582.0 &                           1 &                                                                                     \\makecell[l]{$\\beta_{\\text{MDL}}=0.98$} \\\\\n",
      "\\midrule \\makecell{grammar induction}                &                     -13482.3 &  26986.9 &                           3 &                                    \\makecell[l]{$\\alpha=4.23$ \\\\ $\\beta_{\\text{GrammarInduction}}=0.48$ \\\\ $p_{call}=0.12$} \\\\\n",
      "\\midrule \\makecell{step cost}                        &                     -15880.5 &  31768.5 &                           1 &                                                                                \\makecell[l]{$\\beta_{\\text{StepCost}}=1.31$} \\\\\n",
      "\\midrule \\makecell{MDL + step cost}                  &                     -15267.2 &  30549.3 &                           2 &                                                   \\makecell[l]{$\\beta_{\\text{MDL}}=0.53$ \\\\ $\\beta_{\\text{StepCost}}=0.85$} \\\\\n",
      "\\midrule \\makecell{grammar induction \\\\ + step cost} &                     -12825.2 &  25680.1 &                           4 &  \\makecell[l]{$\\alpha=2.52$ \\\\ $\\beta_{\\text{GrammarInduction}}=0.38$ \\\\ $p_{call}=0.09$ \\\\ $\\beta_{\\text{StepCost}}=0.52$} \\\\\n",
      "\\bottomrule\n",
      "\\end{tabular}\n",
      "\n"
     ]
    }
   ],
   "source": [
    "parameter_table(fit_models)"
   ]
  },
  {
   "cell_type": "markdown",
   "metadata": {},
   "source": [
    "# Confound 1: Remove preprocessing"
   ]
  },
  {
   "cell_type": "code",
   "execution_count": 19,
   "metadata": {},
   "outputs": [
    {
     "name": "stdout",
     "output_type": "stream",
     "text": [
      "Loading from cached file took 41.46 seconds. Last modified 2024-07-01T00:00:37.774198+00:00 (36 days, 15:55:14.467313 ago)\n"
     ]
    }
   ],
   "source": [
    "if 'dc' in locals():\n",
    "    del dc\n",
    "    import gc\n",
    "    gc.collect()\n",
    "\n",
    "dc = lb.fitting.Analyses.confound_no_canon(D)"
   ]
  },
  {
   "cell_type": "code",
   "execution_count": 20,
   "metadata": {},
   "outputs": [
    {
     "name": "stdout",
     "output_type": "stream",
     "text": [
      "Loading from cached file took 0.08 seconds. Last modified 2024-07-02T12:00:30.216536+00:00 (35 days, 3:56:03.871792 ago)\n",
      "score_reuse_and_reward FitResult(range=[14905.06, 16665.01], success=51/51, reach_minima=21/51, best_params=Args(b=45.481763697044386, prior_beta=0.26429333548447287, p_normal=0.8300083353008979, step_count_coef=0.5874839773443553), match_best_params=2/51, elapsed_sec_range=[813.29, 5854.00])\n",
      "score_reuse FitResult(range=[15706.61, 15888.84], success=51/51, reach_minima=5/51, best_params=Args(b=68.123435503456, prior_beta=0.3805029240717043, p_normal=0.7188193187246924), match_best_params=1/51, elapsed_sec_range=[652.88, 2514.47])\n",
      "score_mdl_and_reward FitResult(range=[16514.30, 16514.30], success=51/51, reach_minima=51/51, best_params=Args(mdl_beta=0.26138742576618806, step_count_coef=0.9640407594309199), match_best_params=51/51, elapsed_sec_range=[15.40, 34.06])\n",
      "score_mdl FitResult(range=[18430.93, 18430.93], success=51/51, reach_minima=51/51, best_params=Args(mdl_beta=0.8218788616331156), match_best_params=51/51, elapsed_sec_range=[4.17, 11.37])\n",
      "score_reward FitResult(range=[16664.98, 16664.98], success=51/51, reach_minima=51/51, best_params=Args(step_count_coef=1.18347894051907), match_best_params=51/51, elapsed_sec_range=[3.65, 9.37])\n",
      "score_null FitResult(range=[21710.36, 21710.36], success=1/1, reach_minima=1/1, best_params=Args(), match_best_params=1/1, elapsed_sec_range=[0.46, 0.46])\n"
     ]
    }
   ],
   "source": [
    "fit_models = lb.fitting.analysis(dc)"
   ]
  },
  {
   "cell_type": "code",
   "execution_count": 21,
   "metadata": {},
   "outputs": [
    {
     "data": {
      "image/png": "[encoded data removed]",
      "text/plain": [
       "<Figure size 387.097x324.675 with 1 Axes>"
      ]
     },
     "metadata": {},
     "output_type": "display_data"
    },
    {
     "name": "stdout",
     "output_type": "stream",
     "text": [
      "step cost, random choice, $\\chi^2(1)=10090.8$, $p < .001$\n",
      "MDL, random choice, $\\chi^2(1)=6558.9$, $p < .001$\n",
      "grammar induction, random choice, $\\chi^2(3)=12007.5$, $p < .001$\n",
      "\n",
      "MDL + step cost, step cost, $\\chi^2(1)=301.4$, $p < .001$\n",
      "grammar induction + step cost, step cost, $\\chi^2(3)=3519.8$, $p < .001$\n",
      "\n",
      "MDL + step cost, MDL, $\\chi^2(1)=3833.3$, $p < .001$\n",
      "grammar induction + step cost, grammar induction, $\\chi^2(1)=1603.1$, $p < .001$\n",
      "\\begin{tabular}{lllrl}\n",
      "\\toprule\n",
      "{} & \\makecell{Log \\\\ likelihood} &      BIC &  \\makecell{Param. \\\\ count} &                                                                                                                   Parameters \\\\\n",
      "\\midrule\n",
      "\\makecell{random choice}                             &                     -21710.4 &  43420.7 &                           0 &                                                                                                               \\makecell[l]{} \\\\\n",
      "\\midrule \\makecell{MDL}                              &                     -18430.9 &  36869.3 &                           1 &                                                                                      \\makecell[l]{$\\beta_{\\text{MDL}}=0.82$} \\\\\n",
      "\\midrule \\makecell{grammar induction}                &                     -15706.6 &  31435.5 &                           3 &                                    \\makecell[l]{$\\alpha=68.12$ \\\\ $\\beta_{\\text{GrammarInduction}}=0.38$ \\\\ $p_{call}=0.28$} \\\\\n",
      "\\midrule \\makecell{step cost}                        &                     -16665.0 &  33337.4 &                           1 &                                                                                 \\makecell[l]{$\\beta_{\\text{StepCost}}=1.18$} \\\\\n",
      "\\midrule \\makecell{MDL + step cost}                  &                     -16514.3 &  33043.4 &                           2 &                                                    \\makecell[l]{$\\beta_{\\text{MDL}}=0.26$ \\\\ $\\beta_{\\text{StepCost}}=0.96$} \\\\\n",
      "\\midrule \\makecell{grammar induction \\\\ + step cost} &                     -14905.1 &  29839.8 &                           4 &  \\makecell[l]{$\\alpha=45.48$ \\\\ $\\beta_{\\text{GrammarInduction}}=0.26$ \\\\ $p_{call}=0.17$ \\\\ $\\beta_{\\text{StepCost}}=0.59$} \\\\\n",
      "\\bottomrule\n",
      "\\end{tabular}\n",
      "\n",
      "\n",
      "Computing per-task BIC for score_null\n",
      "Log probability of data, summed across tasks: -21710.36. Log probability of entire dataset: -21710.36.\n",
      "\n",
      "Computing per-task BIC for score_mdl\n",
      "Log probability of data, summed across tasks: -18430.93. Log probability of entire dataset: -18430.93.\n",
      "\n",
      "Computing per-task BIC for score_reuse\n",
      "Because this includes the reuse model, integrating nuisance parameters out.\n",
      "Log probability of data, summed across tasks: -15489.30. Log probability of entire dataset: -15706.61.\n",
      "\n",
      "Computing per-task BIC for score_reward\n",
      "Log probability of data, summed across tasks: -16664.98. Log probability of entire dataset: -16664.98.\n",
      "\n",
      "Computing per-task BIC for score_mdl_and_reward\n",
      "Log probability of data, summed across tasks: -16514.30. Log probability of entire dataset: -16514.30.\n",
      "\n",
      "Computing per-task BIC for score_reuse_and_reward\n",
      "Because this includes the reuse model, integrating nuisance parameters out.\n",
      "Log probability of data, summed across tasks: -14828.47. Log probability of entire dataset: -14905.06.\n"
     ]
    },
    {
     "data": {
      "image/png": "[encoded data removed]",
      "text/plain": [
       "<Figure size 645.161x324.675 with 1 Axes>"
      ]
     },
     "metadata": {},
     "output_type": "display_data"
    }
   ],
   "source": [
    "tag = 'no_canon'\n",
    "\n",
    "plot_model_comparison(fit_models, tag=tag)\n",
    "plt.show()\n",
    "\n",
    "print_comparisons(fit_models)\n",
    "\n",
    "parameter_table(fit_models)\n",
    "\n",
    "model_bics = per_task_bic_for_all_models(dc, fit_models)\n",
    "plot_model_comparison_between_task(dc, model_bics, tag=tag)"
   ]
  },
  {
   "cell_type": "markdown",
   "metadata": {},
   "source": [
    "# Confound 2: No programming experience"
   ]
  },
  {
   "cell_type": "code",
   "execution_count": 22,
   "metadata": {},
   "outputs": [
    {
     "name": "stdout",
     "output_type": "stream",
     "text": [
      "Modal row count 34. # matching 193 / 235\n",
      "# with no programming 125 / 235\n",
      "# valid workers 125 / 235\n",
      "Loading from cached file took 41.90 seconds. Last modified 2024-07-01T01:06:42.334946+00:00 (36 days, 14:50:16.430473 ago)\n"
     ]
    }
   ],
   "source": [
    "if 'dc' in locals():\n",
    "    del dc\n",
    "    import gc\n",
    "    gc.collect()\n",
    "\n",
    "Dstrict = Dall.qualified(strict=True)\n",
    "dc = lb.fitting.Analyses.confound_no_prog_exp(Dstrict)"
   ]
  },
  {
   "cell_type": "code",
   "execution_count": 23,
   "metadata": {},
   "outputs": [
    {
     "name": "stdout",
     "output_type": "stream",
     "text": [
      "Loading from cached file took 0.08 seconds. Last modified 2024-07-01T12:19:55.156245+00:00 (36 days, 3:37:45.897160 ago)\n",
      "score_reuse_and_reward FitResult(range=[9076.87, 9353.33], success=51/51, reach_minima=50/51, best_params=Args(b=2.159022628392653, prior_beta=0.3453548909856636, p_normal=0.9368357894282424, step_count_coef=0.6375652127101119), match_best_params=49/51, elapsed_sec_range=[965.73, 4240.97])\n",
      "score_reuse FitResult(range=[9760.08, 10250.68], success=51/51, reach_minima=49/51, best_params=Args(b=4.154407282469455, prior_beta=0.4801365281637851, p_normal=0.8995607737814846), match_best_params=47/51, elapsed_sec_range=[407.35, 2404.40])\n",
      "score_mdl_and_reward FitResult(range=[10943.20, 10943.20], success=51/51, reach_minima=51/51, best_params=Args(mdl_beta=0.3610350626313853, step_count_coef=1.0685696751421923), match_best_params=51/51, elapsed_sec_range=[14.17, 34.56])\n",
      "score_mdl FitResult(range=[12522.19, 12522.19], success=51/51, reach_minima=51/51, best_params=Args(mdl_beta=0.9511372529241071), match_best_params=51/51, elapsed_sec_range=[3.80, 10.33])\n",
      "score_reward FitResult(range=[11132.08, 11132.08], success=51/51, reach_minima=51/51, best_params=Args(step_count_coef=1.3832682943168517), match_best_params=51/51, elapsed_sec_range=[3.52, 8.93])\n",
      "score_null FitResult(range=[15840.47, 15840.47], success=1/1, reach_minima=1/1, best_params=Args(), match_best_params=1/1, elapsed_sec_range=[0.44, 0.44])\n"
     ]
    }
   ],
   "source": [
    "fit_models = lb.fitting.analysis(dc)"
   ]
  },
  {
   "cell_type": "code",
   "execution_count": 24,
   "metadata": {},
   "outputs": [
    {
     "data": {
      "image/png": "[encoded data removed]",
      "text/plain": [
       "<Figure size 387.097x324.675 with 1 Axes>"
      ]
     },
     "metadata": {},
     "output_type": "display_data"
    },
    {
     "name": "stdout",
     "output_type": "stream",
     "text": [
      "step cost, random choice, $\\chi^2(1)=9416.8$, $p < .001$\n",
      "MDL, random choice, $\\chi^2(1)=6636.6$, $p < .001$\n",
      "grammar induction, random choice, $\\chi^2(3)=12160.8$, $p < .001$\n",
      "\n",
      "MDL + step cost, step cost, $\\chi^2(1)=377.8$, $p < .001$\n",
      "grammar induction + step cost, step cost, $\\chi^2(3)=4110.4$, $p < .001$\n",
      "\n",
      "MDL + step cost, MDL, $\\chi^2(1)=3158.0$, $p < .001$\n",
      "grammar induction + step cost, grammar induction, $\\chi^2(1)=1366.4$, $p < .001$\n",
      "\\begin{tabular}{lllrl}\n",
      "\\toprule\n",
      "{} & \\makecell{Log \\\\ likelihood} &      BIC &  \\makecell{Param. \\\\ count} &                                                                                                                  Parameters \\\\\n",
      "\\midrule\n",
      "\\makecell{random choice}                             &                     -15840.5 &  31680.9 &                           0 &                                                                                                              \\makecell[l]{} \\\\\n",
      "\\midrule \\makecell{MDL}                              &                     -12522.2 &  25051.5 &                           1 &                                                                                     \\makecell[l]{$\\beta_{\\text{MDL}}=0.95$} \\\\\n",
      "\\midrule \\makecell{grammar induction}                &                      -9760.1 &  19541.5 &                           3 &                                    \\makecell[l]{$\\alpha=4.15$ \\\\ $\\beta_{\\text{GrammarInduction}}=0.48$ \\\\ $p_{call}=0.10$} \\\\\n",
      "\\midrule \\makecell{step cost}                        &                     -11132.1 &  22271.3 &                           1 &                                                                                \\makecell[l]{$\\beta_{\\text{StepCost}}=1.38$} \\\\\n",
      "\\midrule \\makecell{MDL + step cost}                  &                     -10943.2 &  21900.6 &                           2 &                                                   \\makecell[l]{$\\beta_{\\text{MDL}}=0.36$ \\\\ $\\beta_{\\text{StepCost}}=1.07$} \\\\\n",
      "\\midrule \\makecell{grammar induction \\\\ + step cost} &                      -9076.9 &  18182.2 &                           4 &  \\makecell[l]{$\\alpha=2.16$ \\\\ $\\beta_{\\text{GrammarInduction}}=0.35$ \\\\ $p_{call}=0.06$ \\\\ $\\beta_{\\text{StepCost}}=0.64$} \\\\\n",
      "\\bottomrule\n",
      "\\end{tabular}\n",
      "\n",
      "\n",
      "Computing per-task BIC for score_null\n",
      "Log probability of data, summed across tasks: -15840.47. Log probability of entire dataset: -15840.47.\n",
      "\n",
      "Computing per-task BIC for score_mdl\n",
      "Log probability of data, summed across tasks: -12522.19. Log probability of entire dataset: -12522.19.\n",
      "\n",
      "Computing per-task BIC for score_reuse\n",
      "Because this includes the reuse model, integrating nuisance parameters out.\n",
      "Log probability of data, summed across tasks: -9669.13. Log probability of entire dataset: -9760.08.\n",
      "\n",
      "Computing per-task BIC for score_reward\n",
      "Log probability of data, summed across tasks: -11132.08. Log probability of entire dataset: -11132.08.\n",
      "\n",
      "Computing per-task BIC for score_mdl_and_reward\n",
      "Log probability of data, summed across tasks: -10943.20. Log probability of entire dataset: -10943.20.\n",
      "\n",
      "Computing per-task BIC for score_reuse_and_reward\n",
      "Because this includes the reuse model, integrating nuisance parameters out.\n",
      "Log probability of data, summed across tasks: -9051.48. Log probability of entire dataset: -9076.87.\n"
     ]
    },
    {
     "data": {
      "image/png": "[encoded data removed]",
      "text/plain": [
       "<Figure size 645.161x324.675 with 1 Axes>"
      ]
     },
     "metadata": {},
     "output_type": "display_data"
    }
   ],
   "source": [
    "tag = 'no_prog_exp'\n",
    "\n",
    "plot_model_comparison(fit_models, tag=tag)\n",
    "plt.show()\n",
    "\n",
    "print_comparisons(fit_models)\n",
    "\n",
    "parameter_table(fit_models)\n",
    "\n",
    "model_bics = per_task_bic_for_all_models(dc, fit_models)\n",
    "plot_model_comparison_between_task(dc, model_bics, tag=tag)"
   ]
  }
 ],
 "metadata": {
  "kernelspec": {
   "display_name": "env",
   "language": "python",
   "name": "python3"
  },
  "language_info": {
   "codemirror_mode": {
    "name": "ipython",
    "version": 3
   },
   "file_extension": ".py",
   "mimetype": "text/x-python",
   "name": "python",
   "nbconvert_exporter": "python",
   "pygments_lexer": "ipython3",
   "version": "3.9.9"
  },
  "orig_nbformat": 4
 },
 "nbformat": 4,
 "nbformat_minor": 2
}
